{
  "nbformat": 4,
  "nbformat_minor": 0,
  "metadata": {
    "colab": {
      "name": "Pre-processing",
      "provenance": []
    },
    "kernelspec": {
      "name": "python3",
      "display_name": "Python 3"
    },
    "language_info": {
      "name": "python"
    }
  },
  "cells": [
    {
      "cell_type": "code",
      "metadata": {
        "id": "HR1EyT2YUk-n",
        "colab": {
          "base_uri": "https://localhost:8080/"
        },
        "outputId": "667bbb3d-4e35-4ccf-da22-18000f74f109"
      },
      "source": [
        "!ls"
      ],
      "execution_count": null,
      "outputs": [
        {
          "output_type": "stream",
          "name": "stdout",
          "text": [
            "archive.zip  OTS_resized\n"
          ]
        }
      ]
    },
    {
      "cell_type": "code",
      "metadata": {
        "id": "_VcFSRl1_d4M"
      },
      "source": [
        "!mkdir images"
      ],
      "execution_count": null,
      "outputs": []
    },
    {
      "cell_type": "code",
      "metadata": {
        "colab": {
          "base_uri": "https://localhost:8080/"
        },
        "id": "Jo22aVXkXbUl",
        "outputId": "143c0676-ef58-4969-87a2-9150f97f1b23"
      },
      "source": [
        "%cd /content/drive/MyDrive/Deep_Learning/attentive_gan_derainment/Train_set"
      ],
      "execution_count": null,
      "outputs": [
        {
          "output_type": "stream",
          "name": "stdout",
          "text": [
            "/content/drive/MyDrive/Deep_Learning/attentive_gan_derainment/Train_set\n"
          ]
        }
      ]
    },
    {
      "cell_type": "code",
      "metadata": {
        "id": "sobczeIuVYWE"
      },
      "source": [
        "!unzip /content/drive/MyDrive/Deep_Learning/attentive_gan_derainment/Train_set/archive.zip"
      ],
      "execution_count": null,
      "outputs": []
    },
    {
      "cell_type": "code",
      "metadata": {
        "id": "Lam_UljcVYdD"
      },
      "source": [
        "import os"
      ],
      "execution_count": null,
      "outputs": []
    },
    {
      "cell_type": "code",
      "metadata": {
        "id": "n1RjEyMMVYfN",
        "colab": {
          "base_uri": "https://localhost:8080/"
        },
        "outputId": "1110a9b3-c142-4c44-aa38-96be6fc0ed3b"
      },
      "source": [
        "len(os.listdir(\"/content/drive/MyDrive/Deep_Learning/attentive_gan_derainment/Train_set/OTS_resized/clear_images\"))"
      ],
      "execution_count": null,
      "outputs": [
        {
          "output_type": "execute_result",
          "data": {
            "text/plain": [
              "8970"
            ]
          },
          "metadata": {},
          "execution_count": 6
        }
      ]
    },
    {
      "cell_type": "code",
      "metadata": {
        "colab": {
          "base_uri": "https://localhost:8080/"
        },
        "id": "us3mmo91oDtb",
        "outputId": "3c64cf8a-ae27-4b51-b2ff-1e20fc9294e9"
      },
      "source": [
        "len(os.listdir(\"/content/drive/MyDrive/Deep_Learning/attentive_gan_derainment/Train_set/OTS_resized/hazy_images\"))"
      ],
      "execution_count": null,
      "outputs": [
        {
          "output_type": "execute_result",
          "data": {
            "text/plain": [
              "36711"
            ]
          },
          "metadata": {},
          "execution_count": 7
        }
      ]
    },
    {
      "cell_type": "code",
      "metadata": {
        "id": "KOX8apk3-l8D"
      },
      "source": [
        "from PIL import Image\n",
        "import random"
      ],
      "execution_count": null,
      "outputs": []
    },
    {
      "cell_type": "markdown",
      "metadata": {
        "id": "G-xnAMKNJLE2"
      },
      "source": [
        "###Getting the clear images"
      ]
    },
    {
      "cell_type": "code",
      "metadata": {
        "colab": {
          "base_uri": "https://localhost:8080/"
        },
        "id": "zHj0hvlpAifh",
        "outputId": "2514eca5-e5e5-4ac4-f86f-f0cc31ca1c02"
      },
      "source": [
        "%cd /content/drive/MyDrive/Deep_Learning/attentive_gan_derainment/Train_set/OTS_resized/clear_images"
      ],
      "execution_count": null,
      "outputs": [
        {
          "output_type": "stream",
          "name": "stdout",
          "text": [
            "/content/drive/MyDrive/Deep_Learning/attentive_gan_derainment/Train_set/OTS_resized/clear_images\n"
          ]
        }
      ]
    },
    {
      "cell_type": "code",
      "metadata": {
        "id": "En3f3VGw-l-a"
      },
      "source": [
        "dataset_size = 1048\n",
        "count=0\n",
        "dir_clean = \"/content/drive/MyDrive/Deep_Learning/attentive_gan_derainment/Train_set/OTS_resized/clear_images\"\n",
        "target = \"/content/drive/MyDrive/Deep_Learning/attentive_gan_derainment/attentive-gan-derainnet/data/training_data_example/clean_image/\"\n",
        "files = os.listdir(dir_clean)\n",
        "sorted_files = sorted(files)\n",
        "for filename in sorted_files:\n",
        "  if count >= dataset_size:\n",
        "    break\n",
        "  im = Image.open(filename)\n",
        "  im.save(target+str(count)+\"_clean.png\")\n",
        "  count += 1\n"
      ],
      "execution_count": null,
      "outputs": []
    },
    {
      "cell_type": "code",
      "metadata": {
        "id": "yOCsJH1L-mA7"
      },
      "source": [
        "!rm -rf /content/drive/MyDrive/Deep_Learning/attentive_gan_derainment/attentive-gan-derainnet/data/training_data_example/clean_image/*"
      ],
      "execution_count": null,
      "outputs": []
    },
    {
      "cell_type": "markdown",
      "metadata": {
        "id": "io9Ia8QzJOyk"
      },
      "source": [
        "###Getting the hazy images"
      ]
    },
    {
      "cell_type": "code",
      "metadata": {
        "colab": {
          "base_uri": "https://localhost:8080/"
        },
        "id": "8h3LONT-YOEH",
        "outputId": "2a152304-316a-471f-87fc-a2a89c1babdb"
      },
      "source": [
        "%cd /content/drive/MyDrive/Deep_Learning/attentive_gan_derainment/Train_set/OTS_resized/hazy_images"
      ],
      "execution_count": null,
      "outputs": [
        {
          "output_type": "stream",
          "name": "stdout",
          "text": [
            "/content/drive/MyDrive/Deep_Learning/attentive_gan_derainment/Train_set/OTS_resized/hazy_images\n"
          ]
        }
      ]
    },
    {
      "cell_type": "code",
      "metadata": {
        "id": "gMaNtBKAJRoh"
      },
      "source": [
        "dataset_size = 1200\n",
        "count=0\n",
        "dir_clean = \"/content/drive/MyDrive/Deep_Learning/attentive_gan_derainment/Train_set/OTS_resized/hazy_images\"\n",
        "target = \"/content/drive/MyDrive/Deep_Learning/attentive_gan_derainment/attentive-gan-derainnet/data/training_data_example/rain_image/\"\n",
        "files = os.listdir(dir_clean)\n",
        "sorted_files = sorted(files)"
      ],
      "execution_count": null,
      "outputs": []
    },
    {
      "cell_type": "code",
      "metadata": {
        "id": "hCGV-hCSJRrA"
      },
      "source": [
        "first = \"0001\"\n",
        "count=0;\n",
        "l = []\n",
        "for i in sorted_files:\n",
        "  if count >= dataset_size:\n",
        "    break\n",
        "  if first == i.split(\"_\")[0]:\n",
        "    l.append(i)\n",
        "  else:\n",
        "    first = i.split(\"_\")[0]\n",
        "    filename = l[random.randint(0,len(l)-1)]\n",
        "    im = Image.open(filename)\n",
        "    im.save(target+str(count)+\"_rain.png\")\n",
        "    count += 1\n",
        "    l.clear()\n",
        "    l.append(i)"
      ],
      "execution_count": null,
      "outputs": []
    },
    {
      "cell_type": "code",
      "metadata": {
        "id": "iPDgq-sQTsGj"
      },
      "source": [
        "!rm -rf /content/drive/MyDrive/Deep_Learning/attentive_gan_derainment/attentive-gan-derainnet/data/training_data_example/clean_image/*\n",
        "!rm -rf /content/drive/MyDrive/Deep_Learning/attentive_gan_derainment/attentive-gan-derainnet/data/training_data_example/rain_image/*"
      ],
      "execution_count": null,
      "outputs": []
    },
    {
      "cell_type": "code",
      "metadata": {
        "colab": {
          "base_uri": "https://localhost:8080/"
        },
        "id": "rwHH_JwmhFAD",
        "outputId": "fb6393c3-22ae-4b26-ff15-4599c932aeba"
      },
      "source": [
        "len(os.listdir(\"/content/drive/MyDrive/Deep_Learning/attentive_gan_derainment/attentive-gan-derainnet/data/training_data_example/clean_image\"))"
      ],
      "execution_count": null,
      "outputs": [
        {
          "output_type": "execute_result",
          "data": {
            "text/plain": [
              "1049"
            ]
          },
          "metadata": {},
          "execution_count": 63
        }
      ]
    },
    {
      "cell_type": "code",
      "metadata": {
        "colab": {
          "base_uri": "https://localhost:8080/"
        },
        "id": "t-TDQaTAhIrK",
        "outputId": "d5770e60-c5d9-48b7-fee1-8cafef7c8b78"
      },
      "source": [
        "len(os.listdir(\"/content/drive/MyDrive/Deep_Learning/attentive_gan_derainment/attentive-gan-derainnet/data/training_data_example/rain_image\"))"
      ],
      "execution_count": null,
      "outputs": [
        {
          "output_type": "execute_result",
          "data": {
            "text/plain": [
              "1049"
            ]
          },
          "metadata": {},
          "execution_count": 64
        }
      ]
    }
  ]
}