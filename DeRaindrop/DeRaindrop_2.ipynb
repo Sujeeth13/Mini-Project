{
  "nbformat": 4,
  "nbformat_minor": 0,
  "metadata": {
    "colab": {
      "name": "DeRaindrop_2",
      "provenance": []
    },
    "kernelspec": {
      "name": "python3",
      "display_name": "Python 3"
    },
    "language_info": {
      "name": "python"
    }
  },
  "cells": [
    {
      "cell_type": "code",
      "metadata": {
        "colab": {
          "base_uri": "https://localhost:8080/"
        },
        "id": "DpqlJ4XhL45L",
        "outputId": "921557d6-9317-4120-b738-4680dc59ff73"
      },
      "source": [
        "!git clone https://github.com/MaybeShewill-CV/attentive-gan-derainnet.git"
      ],
      "execution_count": null,
      "outputs": [
        {
          "output_type": "stream",
          "name": "stdout",
          "text": [
            "Cloning into 'attentive-gan-derainnet'...\n",
            "remote: Enumerating objects: 550, done.\u001b[K\n",
            "remote: Total 550 (delta 0), reused 0 (delta 0), pack-reused 550\u001b[K\n",
            "Receiving objects: 100% (550/550), 358.14 MiB | 32.71 MiB/s, done.\n",
            "Resolving deltas: 100% (259/259), done.\n",
            "Checking out files: 100% (53/53), done.\n"
          ]
        }
      ]
    },
    {
      "cell_type": "code",
      "metadata": {
        "id": "jyGkMm2mMgTM"
      },
      "source": [
        "!rm /content/attentive-gan-derainnet/data/test_data/*\n",
        "!rm /content/attentive-gan-derainnet/data/images/*   #removing the previous test data"
      ],
      "execution_count": null,
      "outputs": []
    },
    {
      "cell_type": "code",
      "metadata": {
        "colab": {
          "base_uri": "https://localhost:8080/"
        },
        "id": "GMQBNeIZMgVq",
        "outputId": "301130a8-16c9-455c-f8b0-a5ae9f9e64a9"
      },
      "source": [
        "%cd /content/attentive-gan-derainnet/data/test_data"
      ],
      "execution_count": null,
      "outputs": [
        {
          "output_type": "stream",
          "name": "stdout",
          "text": [
            "/content/attentive-gan-derainnet/data/test_data\n"
          ]
        }
      ]
    },
    {
      "cell_type": "code",
      "metadata": {
        "id": "FTguVH_OMpuS"
      },
      "source": [
        "import cv2"
      ],
      "execution_count": null,
      "outputs": []
    },
    {
      "cell_type": "code",
      "metadata": {
        "id": "xeScNi3pMpwy"
      },
      "source": [
        "path = '/content/hazy.mp4'    #saving the frames into the test data folder"
      ],
      "execution_count": null,
      "outputs": []
    },
    {
      "cell_type": "code",
      "metadata": {
        "id": "pTD4LDrRMpy0"
      },
      "source": [
        "#getting frames out of the dehazed video into the images folder\n",
        "vidcap = cv2.VideoCapture(path)\n",
        "def getFrame(sec):\n",
        "    vidcap.set(cv2.CAP_PROP_POS_MSEC,sec*1000)\n",
        "    hasFrames,image = vidcap.read()\n",
        "    if hasFrames:\n",
        "        cv2.imwrite(\"test_\"+str(count)+\".png\", image)\n",
        "    return hasFrames\n",
        "sec = 0\n",
        "frameRate = 60\n",
        "count=1\n",
        "success = getFrame(sec)\n",
        "while success:\n",
        "    count = count + 1\n",
        "    sec = sec + frameRate\n",
        "    sec = round(sec, 2)\n",
        "    success = getFrame(sec)"
      ],
      "execution_count": null,
      "outputs": []
    },
    {
      "cell_type": "code",
      "metadata": {
        "colab": {
          "base_uri": "https://localhost:8080/"
        },
        "id": "ktIO_CIIMuPz",
        "outputId": "b97e3fe7-3dad-4a8b-f69a-b4c0ce2cd515"
      },
      "source": [
        "%cd /content/attentive-gan-derainnet"
      ],
      "execution_count": null,
      "outputs": [
        {
          "output_type": "stream",
          "name": "stdout",
          "text": [
            "/content/attentive-gan-derainnet\n"
          ]
        }
      ]
    },
    {
      "cell_type": "code",
      "metadata": {
        "id": "fBaAQIcnXYvA"
      },
      "source": [
        "!mv /content/attentive-gan-derainnet/tools/test_model.py /content/attentive-gan-derainnet  #moving the test.py file to the root directory"
      ],
      "execution_count": null,
      "outputs": []
    },
    {
      "cell_type": "code",
      "metadata": {
        "colab": {
          "base_uri": "https://localhost:8080/"
        },
        "id": "vOAOzRQ_YeAv",
        "outputId": "2cd4cb04-7cef-408a-f235-88c3b35f4ccd"
      },
      "source": [
        "%tensorflow_version 1.13.2   #some libraries used in the code is only supported by the old version of tensorflow"
      ],
      "execution_count": null,
      "outputs": [
        {
          "output_type": "stream",
          "name": "stdout",
          "text": [
            "`%tensorflow_version` only switches the major version: 1.x or 2.x.\n",
            "You set: `1.13.2`. This will be interpreted as: `1.x`.\n",
            "\n",
            "\n",
            "TensorFlow 1.x selected.\n"
          ]
        }
      ]
    },
    {
      "cell_type": "code",
      "metadata": {
        "id": "-43QzXxHYsfu"
      },
      "source": [
        "import tensorflow"
      ],
      "execution_count": null,
      "outputs": []
    },
    {
      "cell_type": "code",
      "metadata": {
        "colab": {
          "base_uri": "https://localhost:8080/"
        },
        "id": "MN2h_AE9YlOo",
        "outputId": "86b818a3-7262-4a26-808b-09a73c2c7c68"
      },
      "source": [
        "print(tensorflow.__version__)\n"
      ],
      "execution_count": null,
      "outputs": [
        {
          "output_type": "stream",
          "name": "stdout",
          "text": [
            "1.15.2\n"
          ]
        }
      ]
    },
    {
      "cell_type": "code",
      "metadata": {
        "colab": {
          "base_uri": "https://localhost:8080/"
        },
        "id": "-Gi0bGS3MwVq",
        "outputId": "fb724a51-df1a-4ff5-f67c-ca9ae0ba43fb"
      },
      "source": [
        "!python test_model.py --weights_path model/derain_gan/derain_gan.ckpt-100000 --image_path data/test_data/test_1.png     #testing"
      ],
      "execution_count": null,
      "outputs": [
        {
          "output_type": "stream",
          "name": "stdout",
          "text": [
            "WARNING:tensorflow:\n",
            "The TensorFlow contrib module will not be included in TensorFlow 2.0.\n",
            "For more information, please see:\n",
            "  * https://github.com/tensorflow/community/blob/master/rfcs/20180907-contrib-sunset.md\n",
            "  * https://github.com/tensorflow/addons\n",
            "  * https://github.com/tensorflow/io (for I/O related ops)\n",
            "If you depend on functionality not listed there, please file an issue.\n",
            "\n",
            "WARNING:tensorflow:From test_model.py:87: The name tf.placeholder is deprecated. Please use tf.compat.v1.placeholder instead.\n",
            "\n",
            "VGG16 Network init complete\n",
            "WARNING:tensorflow:From /content/attentive-gan-derainnet/attentive_gan_model/derain_drop_net.py:84: The name tf.variable_scope is deprecated. Please use tf.compat.v1.variable_scope instead.\n",
            "\n",
            "WARNING:tensorflow:From /content/attentive-gan-derainnet/attentive_gan_model/cnn_basenet.py:71: The name tf.get_variable is deprecated. Please use tf.compat.v1.get_variable instead.\n",
            "\n",
            "WARNING:tensorflow:From /content/attentive-gan-derainnet/attentive_gan_model/cnn_basenet.py:402: conv2d_transpose (from tensorflow.python.layers.convolutional) is deprecated and will be removed in a future version.\n",
            "Instructions for updating:\n",
            "Use `tf.keras.layers.Conv2DTranspose` instead.\n",
            "WARNING:tensorflow:From /tensorflow-1.15.2/python3.7/tensorflow_core/python/layers/convolutional.py:1279: Layer.apply (from tensorflow.python.keras.engine.base_layer) is deprecated and will be removed in a future version.\n",
            "Instructions for updating:\n",
            "Please use `layer.__call__` method instead.\n",
            "WARNING:tensorflow:From /content/attentive-gan-derainnet/attentive_gan_model/cnn_basenet.py:167: The name tf.nn.avg_pool is deprecated. Please use tf.nn.avg_pool2d instead.\n",
            "\n",
            "WARNING:tensorflow:From test_model.py:110: The name tf.ConfigProto is deprecated. Please use tf.compat.v1.ConfigProto instead.\n",
            "\n",
            "WARNING:tensorflow:From test_model.py:115: The name tf.Session is deprecated. Please use tf.compat.v1.Session instead.\n",
            "\n",
            "2021-09-29 07:09:42.725858: I tensorflow/core/platform/profile_utils/cpu_utils.cc:94] CPU Frequency: 2200210000 Hz\n",
            "2021-09-29 07:09:42.726262: I tensorflow/compiler/xla/service/service.cc:168] XLA service 0x55967ba64680 initialized for platform Host (this does not guarantee that XLA will be used). Devices:\n",
            "2021-09-29 07:09:42.726308: I tensorflow/compiler/xla/service/service.cc:176]   StreamExecutor device (0): Host, Default Version\n",
            "2021-09-29 07:09:42.759195: I tensorflow/stream_executor/platform/default/dso_loader.cc:44] Successfully opened dynamic library libcuda.so.1\n",
            "2021-09-29 07:09:42.808824: E tensorflow/stream_executor/cuda/cuda_driver.cc:318] failed call to cuInit: CUDA_ERROR_NO_DEVICE: no CUDA-capable device is detected\n",
            "2021-09-29 07:09:42.808884: I tensorflow/stream_executor/cuda/cuda_diagnostics.cc:156] kernel driver does not appear to be running on this host (bbc7da8a5f5b): /proc/driver/nvidia/version does not exist\n",
            "WARNING:tensorflow:From test_model.py:117: The name tf.train.Saver is deprecated. Please use tf.compat.v1.train.Saver instead.\n",
            "\n",
            "<Figure size 640x480 with 1 Axes>\n",
            "<Figure size 640x480 with 1 Axes>\n",
            "<Figure size 640x480 with 1 Axes>\n",
            "<Figure size 640x480 with 1 Axes>\n",
            "<Figure size 640x480 with 1 Axes>\n",
            "<Figure size 640x480 with 1 Axes>\n"
          ]
        }
      ]
    },
    {
      "cell_type": "code",
      "metadata": {
        "id": "QxC6qrgIaukK"
      },
      "source": [
        "!mkdir imgs\n"
      ],
      "execution_count": null,
      "outputs": []
    },
    {
      "cell_type": "code",
      "metadata": {
        "id": "kH01FPyFa0kR"
      },
      "source": [
        "#moving all the acquired results into the imgs folder\n",
        "!mv /content/attentive-gan-derainnet/atte_map_1.png /content/attentive-gan-derainnet/atte_map_2.png /content/attentive-gan-derainnet/atte_map_3.png /content/attentive-gan-derainnet/atte_map_4.png /content/attentive-gan-derainnet/derain_ret.png /content/attentive-gan-derainnet/src_img.png /content/attentive-gan-derainnet/imgs"
      ],
      "execution_count": null,
      "outputs": []
    },
    {
      "cell_type": "code",
      "metadata": {
        "id": "oCiBAG4EbPyS"
      },
      "source": [
        "from google.colab import files "
      ],
      "execution_count": null,
      "outputs": []
    },
    {
      "cell_type": "code",
      "metadata": {
        "colab": {
          "base_uri": "https://localhost:8080/"
        },
        "id": "rguDIBLFbUGw",
        "outputId": "a8b39885-5e18-4c35-8302-b665136a1a60"
      },
      "source": [
        "!zip -r /content/result.zip /content/attentive-gan-derainnet/imgs    #ziping the imgs folder"
      ],
      "execution_count": null,
      "outputs": [
        {
          "output_type": "stream",
          "name": "stdout",
          "text": [
            "  adding: content/attentive-gan-derainnet/imgs/ (stored 0%)\n",
            "  adding: content/attentive-gan-derainnet/imgs/src_img.png (deflated 3%)\n",
            "  adding: content/attentive-gan-derainnet/imgs/derain_ret.png (deflated 0%)\n",
            "  adding: content/attentive-gan-derainnet/imgs/atte_map_4.png (deflated 1%)\n",
            "  adding: content/attentive-gan-derainnet/imgs/atte_map_1.png (deflated 1%)\n",
            "  adding: content/attentive-gan-derainnet/imgs/atte_map_2.png (deflated 1%)\n",
            "  adding: content/attentive-gan-derainnet/imgs/atte_map_3.png (deflated 1%)\n"
          ]
        }
      ]
    }
  ]
}